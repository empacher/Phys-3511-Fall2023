{
 "cells": [
  {
   "cell_type": "code",
   "execution_count": 2,
   "id": "f2dfaf8b",
   "metadata": {},
   "outputs": [
    {
     "name": "stdout",
     "output_type": "stream",
     "text": [
      "printing current and previous number sum in a range(10)\n",
      "current number 1 previous number  0  sum:  1\n",
      "current number 2 previous number  1  sum:  3\n",
      "current number 3 previous number  2  sum:  5\n",
      "current number 4 previous number  3  sum:  7\n",
      "current number 5 previous number  4  sum:  9\n",
      "current number 6 previous number  5  sum:  11\n",
      "current number 7 previous number  6  sum:  13\n",
      "current number 8 previous number  7  sum:  15\n",
      "current number 9 previous number  8  sum:  17\n"
     ]
    }
   ],
   "source": [
    "print(\"printing current and previous number sum in a range(10)\")\n",
    "previous_num = 0\n",
    "\n",
    "for i in range(1, 10):\n",
    "    x_sum = previous_num + i\n",
    "    print(\"current number\", i, \"previous number \", previous_num, \" sum: \", x_sum)\n",
    "    previous_num = i\n"
   ]
  },
  {
   "cell_type": "code",
   "execution_count": 51,
   "id": "77ec7e34",
   "metadata": {},
   "outputs": [
    {
     "name": "stdout",
     "output_type": "stream",
     "text": [
      "0 is even\n"
     ]
    }
   ],
   "source": [
    "def ahh(int):\n",
    "    if int % 2:\n",
    "        print(int, \"is odd\")\n",
    "        if int == 0:\n",
    "            print(int, \"is zero\")\n",
    "    else:\n",
    "        print(int, \"is even\")\n",
    "ahh(0)"
   ]
  },
  {
   "cell_type": "code",
   "execution_count": 17,
   "id": "18791b92",
   "metadata": {},
   "outputs": [
    {
     "name": "stdout",
     "output_type": "stream",
     "text": [
      "0 5 10 15\n"
     ]
    }
   ],
   "source": [
    "tuple1 = (0, 5, 10, 15)\n",
    "\n",
    "a, b, c, d = tuple1\n",
    "print(a,b,c,d)"
   ]
  },
  {
   "cell_type": "code",
   "execution_count": null,
   "id": "5a60b13d",
   "metadata": {},
   "outputs": [],
   "source": []
  }
 ],
 "metadata": {
  "kernelspec": {
   "display_name": "Python 3 (ipykernel)",
   "language": "python",
   "name": "python3"
  },
  "language_info": {
   "codemirror_mode": {
    "name": "ipython",
    "version": 3
   },
   "file_extension": ".py",
   "mimetype": "text/x-python",
   "name": "python",
   "nbconvert_exporter": "python",
   "pygments_lexer": "ipython3",
   "version": "3.9.13"
  }
 },
 "nbformat": 4,
 "nbformat_minor": 5
}
